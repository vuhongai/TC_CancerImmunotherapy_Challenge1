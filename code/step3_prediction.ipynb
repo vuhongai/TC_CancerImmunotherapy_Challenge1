{
 "cells": [
  {
   "cell_type": "code",
   "execution_count": 11,
   "metadata": {},
   "outputs": [],
   "source": [
    "import numpy as np\n",
    "import pandas as pd\n",
    "import matplotlib.pyplot as plt\n",
    "from sklearn.metrics import mean_absolute_error, mean_squared_error\n",
    "from utils import regression_model, l1_loss, make_final_prediction, select_best_model_and_predict\n",
    "from sklearn.preprocessing import StandardScaler\n",
    "import pickle\n",
    "\n",
    "np.set_printoptions(formatter={'float': lambda x: \"{0:0.3f}\".format(x)})"
   ]
  },
  {
   "cell_type": "markdown",
   "metadata": {},
   "source": [
    "compilation of mae_val score of all NN models in step 2"
   ]
  },
  {
   "cell_type": "code",
   "execution_count": 2,
   "metadata": {},
   "outputs": [],
   "source": [
    "emb_size = 32\n",
    "\n",
    "with open(f'./submission/scaler_{emb_size}.pkl', 'rb') as f:\n",
    "    X_scaler = pickle.load(f)"
   ]
  },
  {
   "cell_type": "code",
   "execution_count": 3,
   "metadata": {},
   "outputs": [],
   "source": [
    "for n_try in range(8):\n",
    "    globals()[f\"score{n_try}\"] = pd.read_csv(f\"./submission/predictions/NN_{emb_size}_score_try{n_try}.csv\", index_col=0)\n",
    "\n",
    "score = pd.concat([globals()[f\"score{n_try}\"] for n_try in range(8)])\n",
    "score.reset_index(inplace=True)"
   ]
  },
  {
   "cell_type": "markdown",
   "metadata": {},
   "source": [
    "precomputed gene embedding"
   ]
  },
  {
   "cell_type": "code",
   "execution_count": 4,
   "metadata": {},
   "outputs": [],
   "source": [
    "g_embed = np.load(f'submission/embedding/gene_embedding_{emb_size}.npy')\n",
    "g_name = np.load(f'submission/embedding/gene_names_{emb_size}.npy', allow_pickle= True)"
   ]
  },
  {
   "cell_type": "markdown",
   "metadata": {},
   "source": [
    "transform the gene embedding by StandardScaler"
   ]
  },
  {
   "cell_type": "code",
   "execution_count": 5,
   "metadata": {},
   "outputs": [],
   "source": [
    "#transform test set\n",
    "g_name_test = ['Aqr', 'Bach2', 'Bhlhe40', 'Ets1', 'Fosb', 'Mafk', 'Stat3'] \n",
    "X_test = g_embed[[list(g_name).index(g) for g in g_name_test]]\n",
    "X_test_transformed = X_scaler.transform(X_test)"
   ]
  },
  {
   "cell_type": "markdown",
   "metadata": {},
   "source": [
    "compute predictions of all 15077 genes of all best 2 models for each k-fold dataset"
   ]
  },
  {
   "cell_type": "code",
   "execution_count": 10,
   "metadata": {},
   "outputs": [
    {
     "name": "stdout",
     "output_type": "stream",
     "text": [
      "prediction gene Aqr\n",
      "--max number of similar vector for min_distance 0.004: 8/19\n",
      "- [[0.179 0.216 0.241 0.321 0.043]]\n",
      "-mean:  [0.179 0.216 0.241 0.321 0.043] \n",
      "\n",
      "[0.179 0.216 0.241 0.321 0.043]\n",
      "prediction gene Bach2\n",
      "--max number of similar vector for min_distance 0.004: 13/19\n",
      "- [[0.114 0.183 0.267 0.402 0.034]\n",
      " [0.074 0.195 0.316 0.387 0.028]\n",
      " [0.084 0.199 0.322 0.372 0.023]]\n",
      "-mean:  [0.091 0.193 0.302 0.387 0.028] \n",
      "\n",
      "[0.091 0.193 0.302 0.387 0.028]\n",
      "prediction gene Bhlhe40\n",
      "--max number of similar vector for min_distance 0.004: 9/19\n",
      "- [[0.294 0.175 0.224 0.262 0.045]]\n",
      "-mean:  [0.294 0.175 0.224 0.262 0.045] \n",
      "\n",
      "[0.294 0.175 0.224 0.262 0.045]\n",
      "prediction gene Ets1\n",
      "--max number of similar vector for min_distance 0.004: 8/19\n",
      "- [[0.263 0.272 0.171 0.258 0.036]]\n",
      "-mean:  [0.263 0.272 0.171 0.258 0.036] \n",
      "\n",
      "[0.263 0.272 0.171 0.258 0.036]\n",
      "prediction gene Fosb\n",
      "--max number of similar vector for min_distance 0.004: 10/19\n",
      "- [[0.130 0.188 0.297 0.357 0.028]\n",
      " [0.086 0.201 0.335 0.336 0.042]]\n",
      "-mean:  [0.108 0.195 0.316 0.347 0.035] \n",
      "\n",
      "[0.108 0.195 0.316 0.347 0.035]\n",
      "prediction gene Mafk\n",
      "--max number of similar vector for min_distance 0.004: 13/19\n",
      "- [[0.158 0.187 0.246 0.369 0.041]]\n",
      "-mean:  [0.158 0.187 0.246 0.369 0.041] \n",
      "\n",
      "[0.158 0.187 0.246 0.369 0.041]\n",
      "prediction gene Stat3\n",
      "--max number of similar vector for min_distance 0.004: 10/19\n",
      "- [[0.206 0.136 0.245 0.374 0.039]]\n",
      "-mean:  [0.206 0.136 0.245 0.374 0.039] \n",
      "\n",
      "[0.206 0.136 0.245 0.374 0.039]\n"
     ]
    }
   ],
   "source": [
    "best_n = 2\n",
    "min_distance = 4e-3\n",
    "min_mae_val = 0.1\n",
    "\n",
    "Y_heldout_pred = []\n",
    "\n",
    "predictions = select_best_model_and_predict(\n",
    "    score,\n",
    "    emb_size,\n",
    "    X_test_transformed,\n",
    "    best_n = best_n,\n",
    "    min_mae_val=min_mae_val,\n",
    ")\n",
    "\n",
    "for g in g_name_test:\n",
    "    print(f'prediction gene {g}')\n",
    "    p = predictions[:,list(g_name_test).index(g),:]\n",
    "    y_pred = make_final_prediction(p,\n",
    "                                   min_distance = min_distance, distance_step=5e-5, \n",
    "                                   f=mean_squared_error,\n",
    "                                   verbose=1\n",
    "                                  )\n",
    "    Y_heldout_pred.append(y_pred)\n",
    "    print(y_pred)"
   ]
  },
  {
   "cell_type": "markdown",
   "metadata": {},
   "source": [
    "# Save the output"
   ]
  },
  {
   "cell_type": "code",
   "execution_count": 7,
   "metadata": {},
   "outputs": [],
   "source": [
    "assert g_name_test == ['Aqr', 'Bach2', 'Bhlhe40', 'Ets1', 'Fosb', 'Mafk', 'Stat3']\n",
    "Y_heldout_pred = np.array(Y_heldout_pred)\n",
    "Y_heldout_pred[:,4] = 1- np.sum(Y_heldout_pred[:,:4], axis=-1)"
   ]
  },
  {
   "cell_type": "code",
   "execution_count": 8,
   "metadata": {},
   "outputs": [],
   "source": [
    "df = pd.DataFrame(Y_heldout_pred[:3], columns=['a_i','b_i','c_i','d_i','e_i'])\n",
    "df['gene'] = ['Aqr', 'Bach2', 'Bhlhe40']\n",
    "df.index = df['gene']\n",
    "df.drop(columns=['gene'], inplace=True)\n",
    "df.to_csv('../solution/validation_output.csv')"
   ]
  },
  {
   "cell_type": "code",
   "execution_count": 9,
   "metadata": {},
   "outputs": [],
   "source": [
    "df = pd.DataFrame(Y_heldout_pred[3:], columns=['a_i','b_i','c_i','d_i','e_i'])\n",
    "df['gene'] = [ 'Ets1', 'Fosb', 'Mafk', 'Stat3']\n",
    "df.index = df['gene']\n",
    "df.drop(columns=['gene'], inplace=True)\n",
    "df.to_csv('../solution/test_output.csv')"
   ]
  }
 ],
 "metadata": {
  "kernelspec": {
   "display_name": "Python 3 (ipykernel)",
   "language": "python",
   "name": "python3"
  },
  "language_info": {
   "codemirror_mode": {
    "name": "ipython",
    "version": 3
   },
   "file_extension": ".py",
   "mimetype": "text/x-python",
   "name": "python",
   "nbconvert_exporter": "python",
   "pygments_lexer": "ipython3",
   "version": "3.9.13"
  },
  "vscode": {
   "interpreter": {
    "hash": "edacc7ab10d63cb8bffb01cade2ef2ea3085f4d1f706c34b45e82f52a95411d4"
   }
  }
 },
 "nbformat": 4,
 "nbformat_minor": 2
}
